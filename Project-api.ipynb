{
 "cells": [
  {
   "attachments": {},
   "cell_type": "markdown",
   "metadata": {
    "id": "ehYRcxGCTtWK"
   },
   "source": [
    "## 1.0 Collecting our data"
   ]
  },
  {
   "attachments": {},
   "cell_type": "markdown",
   "metadata": {
    "id": "NQiv5eKoTtWT"
   },
   "source": [
    "Requesting data from the Austin, Texas API using requests.get\n",
    "\n",
    "Both datasets contain around 160,000 rows of data. To retrieve all the data, using ```?$limit=160000``` at the end of both API endpoints"
   ]
  },
  {
   "attachments": {},
   "cell_type": "markdown",
   "metadata": {
    "id": "_TOqIBbMTtWU"
   },
   "source": [
    "### 1.1 Requesting data from the intake API and storing as a JSON"
   ]
  },
  {
   "cell_type": "code",
   "execution_count": null,
   "metadata": {
    "colab": {
     "base_uri": "https://localhost:8080/"
    },
    "id": "69XOzPD9TtWV",
    "outputId": "5e01afbd-dcfd-4da8-f2b0-b84e849c0a72"
   },
   "outputs": [],
   "source": [
    "import requests\n",
    "import pandas as pd\n",
    "\n",
    "response = requests.get('https://data.austintexas.gov/resource/wter-evkm.json?$limit=160000')\n",
    "data_set1 = response.json()\n",
    "data_set1"
   ]
  },
  {
   "attachments": {},
   "cell_type": "markdown",
   "metadata": {
    "id": "Ft7PUebRTtWX"
   },
   "source": [
    "### 1.2 Requesting data from the outcome API and storing as a JSON"
   ]
  },
  {
   "cell_type": "code",
   "execution_count": null,
   "metadata": {
    "colab": {
     "base_uri": "https://localhost:8080/"
    },
    "id": "UEP4blDhTtWY",
    "outputId": "d3f78375-2cc9-4bf1-8352-c3ab0d38b3db"
   },
   "outputs": [],
   "source": [
    "response2 = requests.get('https://data.austintexas.gov/resource/9t4d-g238.json?$limit=160000')\n",
    "data_set2 = response2.json()\n",
    "data_set2"
   ]
  },
  {
   "attachments": {},
   "cell_type": "markdown",
   "metadata": {
    "id": "NkWfWLwaTtWY"
   },
   "source": [
    "### 1.3 Converting JSON data to a dataframe using PANDAS"
   ]
  },
  {
   "cell_type": "code",
   "execution_count": null,
   "metadata": {
    "colab": {
     "base_uri": "https://localhost:8080/",
     "height": 409
    },
    "id": "mYfx4XDGTtWZ",
    "outputId": "0297b6e0-3535-4c51-fd33-3d59fc55c257"
   },
   "outputs": [],
   "source": [
    "# dataframe(df) for intake data\n",
    "animal_intake_df = pd.DataFrame(data_set1)\n",
    "\n",
    "# only showing the first 5 rows - can remove .head() to see more rows\n",
    "animal_intake_df.head(5)\n"
   ]
  },
  {
   "cell_type": "code",
   "execution_count": null,
   "metadata": {
    "colab": {
     "base_uri": "https://localhost:8080/",
     "height": 374
    },
    "id": "tD0nM-eVTtWa",
    "outputId": "7b0784ed-be35-466e-ad62-ece50dab192f"
   },
   "outputs": [],
   "source": [
    "# dataframe(df) for outcomes data\n",
    "\n",
    "animal_outcome_df = pd.DataFrame(data_set2)\n",
    "\n",
    "animal_outcome_df.head(5)\n"
   ]
  },
  {
   "attachments": {},
   "cell_type": "markdown",
   "metadata": {
    "id": "xE6iHqRTTtWc"
   },
   "source": [
    "### 1.4 Writing datasets to csv files"
   ]
  },
  {
   "cell_type": "code",
   "execution_count": null,
   "metadata": {
    "id": "OTJ9O16VTtWd"
   },
   "outputs": [],
   "source": [
    "# write intake data to csv\n",
    "animal_intake_df.to_csv(\"animal_intake_dataset.csv\")\n",
    "\n",
    "# write outcome data to csv\n",
    "animal_outcome_df.to_csv(\"animal_outcome_dataset.csv\")\n"
   ]
  },
  {
   "attachments": {},
   "cell_type": "markdown",
   "metadata": {
    "id": "qGO-ON96TtWd"
   },
   "source": [
    "## 2.0 Cleaning the intake dataset"
   ]
  },
  {
   "cell_type": "code",
   "execution_count": null,
   "metadata": {
    "colab": {
     "base_uri": "https://localhost:8080/"
    },
    "id": "3IPhd6G1TtWe",
    "outputId": "66161a08-49d5-400b-9ea9-a4a0b215ea29"
   },
   "outputs": [],
   "source": [
    "# checking the datatypes of the columns\n",
    "animal_intake_df.info()\n"
   ]
  },
  {
   "attachments": {},
   "cell_type": "markdown",
   "metadata": {
    "id": "WMPjgW-OXfje"
   },
   "source": [
    "### 2.1 Identifying rows with duplicate values in the animal_id and datetime columns in the intakes:"
   ]
  },
  {
   "cell_type": "code",
   "execution_count": null,
   "metadata": {
    "id": "pQ_9GeFrXyXA"
   },
   "outputs": [],
   "source": [
    "# Identify duplicate rows based on the 'animal_id' and 'datetime' columns:\n",
    "duplicates_intakes = animal_intake_df[animal_intake_df.duplicated(subset=['animal_id', 'datetime', 'datetime2'], keep=False)]\n",
    "\n",
    "duplicates_intakes_sorted = duplicates_intakes.sort_values(by=['animal_id', 'datetime'])"
   ]
  },
  {
   "cell_type": "code",
   "execution_count": null,
   "metadata": {
    "colab": {
     "base_uri": "https://localhost:8080/",
     "height": 1000
    },
    "id": "aQmRZ2d_cXmm",
    "outputId": "d73c3366-1331-4a4f-914d-0ef24a141b61"
   },
   "outputs": [],
   "source": [
    "# Converting the result into a dataframe and showing the result to observe the duplicates\n",
    "duplicate_intakes_df = pd.DataFrame(duplicates_intakes_sorted)\n",
    "\n",
    "duplicate_intakes_df.head(20)"
   ]
  },
  {
   "attachments": {},
   "cell_type": "markdown",
   "metadata": {
    "id": "HHQ9oj7PTtWe"
   },
   "source": [
    "### 2.2 Removing duplicate rows from the intakes df\n",
    "\n",
    "Removing duplicate rows where the animal_id and datetime values are the same.\n",
    "Where they are the same, this means the data was inputted twice (probably by mistake) and so removing these duplicate values will ensure the results are not skewed."
   ]
  },
  {
   "cell_type": "code",
   "execution_count": null,
   "metadata": {
    "colab": {
     "base_uri": "https://localhost:8080/",
     "height": 1000
    },
    "id": "Y7K4PhR1TtWe",
    "outputId": "bc69cbfc-ebb3-433b-fcb8-8eed5ef459be"
   },
   "outputs": [],
   "source": [
    "# show key features-based duplicates with identical animal_id, datetime, datetime2 (except for first occurrence)\n",
    "animal_intake_df[animal_intake_df[[\"animal_id\", \"datetime\", \"datetime2\"]].duplicated()]"
   ]
  },
  {
   "cell_type": "code",
   "execution_count": null,
   "metadata": {
    "colab": {
     "base_uri": "https://localhost:8080/",
     "height": 748
    },
    "id": "CX2nre0rTtWf",
    "outputId": "5129868e-32ad-4f54-9ae1-6f84b3b7d2cc"
   },
   "outputs": [],
   "source": [
    "# delete duplicates and save changes to existing dataframe\n",
    "animal_intake_df.drop_duplicates(subset=['animal_id', 'datetime', 'datetime2'], inplace=True)\n",
    "animal_intake_df"
   ]
  },
  {
   "attachments": {},
   "cell_type": "markdown",
   "metadata": {
    "id": "jGmfuiRlTtWf"
   },
   "source": [
    "### 2.3 Removing duplicate columns from the intakes df"
   ]
  },
  {
   "attachments": {},
   "cell_type": "markdown",
   "metadata": {
    "id": "LVps3zVITtWg"
   },
   "source": [
    "The dataset contains two seemingly identical columns for datetime of intake: datetime and datetime2. Confirm that these are in fact duplicates, then delete duplicate columns and replace with a more appropriately named intake_date column."
   ]
  },
  {
   "cell_type": "code",
   "execution_count": null,
   "metadata": {
    "colab": {
     "base_uri": "https://localhost:8080/",
     "height": 113
    },
    "id": "zNxh1zIXTtWg",
    "outputId": "26ee8884-7955-4b97-d5b2-c42992ad6b37"
   },
   "outputs": [],
   "source": [
    "# checking to ensure datetime and datetime2 are identical for all records\n",
    "animal_intake_df[~(animal_intake_df[\"datetime\"] == animal_intake_df[\"datetime2\"])]"
   ]
  },
  {
   "cell_type": "code",
   "execution_count": null,
   "metadata": {
    "colab": {
     "base_uri": "https://localhost:8080/"
    },
    "id": "LuAIG9qnTtWh",
    "outputId": "a4c8e3ea-b4fe-4015-8abc-3f4efd962eb7"
   },
   "outputs": [],
   "source": [
    "# storing the datetime column data into a variable intake_date\n",
    "intake_date = animal_intake_df['datetime']\n",
    "\n",
    "# using the PANDAS drop function to drop the 'datetime' and 'datetime2' columns from the intake dataset\n",
    "intake_df = animal_intake_df.drop(['datetime', 'datetime2'], axis='columns')\n",
    "\n",
    "# inserting the new column which we created above (intake_date) and placing this at index 1 in the dataframe\n",
    "intake_df.insert(1, 'intake_date', intake_date)\n",
    "\n",
    "intake_df.shape\n"
   ]
  },
  {
   "attachments": {},
   "cell_type": "markdown",
   "metadata": {
    "id": "ssFXkSUiTtWj"
   },
   "source": [
    "## 3.0 Cleaning the outcome dataset\n",
    "\n",
    "Repeat the process that was completed above in the intakes df for the outcomes dataset"
   ]
  },
  {
   "attachments": {},
   "cell_type": "markdown",
   "metadata": {
    "id": "wrZ7TNT4TtWk"
   },
   "source": [
    "### 3.1 Removing duplicate rows from the outcome df\n",
    "\n",
    "Removing duplicate rows where the animal_id and datetime values are the same.\n",
    "Where they are the same, this means the data was inputted twice (probably by mistake) and so removing these duplicate values will ensure the results are not skewed."
   ]
  },
  {
   "cell_type": "code",
   "execution_count": null,
   "metadata": {
    "colab": {
     "base_uri": "https://localhost:8080/",
     "height": 1000
    },
    "id": "7wZxnS-kTtWk",
    "outputId": "288125c7-2cc1-47a7-fb91-bc3eda1dca3a"
   },
   "outputs": [],
   "source": [
    "# show key features-based duplicates with identical animal_id, datetime, monthyear (except for first occurrence)\n",
    "animal_outcome_df[animal_outcome_df[[\"animal_id\", \"datetime\", \"monthyear\"]].duplicated()]"
   ]
  },
  {
   "cell_type": "code",
   "execution_count": null,
   "metadata": {
    "colab": {
     "base_uri": "https://localhost:8080/",
     "height": 713
    },
    "id": "YT8SOtiATtWn",
    "outputId": "81b1dbcf-0c8e-404d-fe76-017a762d83af"
   },
   "outputs": [],
   "source": [
    "# delete duplicates and save changes to existing dataframe\n",
    "animal_outcome_df.drop_duplicates(subset=['animal_id', 'datetime', 'monthyear'], inplace=True)\n",
    "animal_outcome_df"
   ]
  },
  {
   "attachments": {},
   "cell_type": "markdown",
   "metadata": {
    "id": "DYRhDALJTtWn"
   },
   "source": [
    "### 3.2 Removing duplicate columns from the outcomes df"
   ]
  },
  {
   "attachments": {},
   "cell_type": "markdown",
   "metadata": {
    "id": "-Eq24gDOTtWo"
   },
   "source": [
    "The dataset contains two seemingly identical columns for datetime of intake: datetime and monthyear. Confirm that these are in fact duplicates, then delete duplicate columns and replace with a more appropriately named intake_date column."
   ]
  },
  {
   "cell_type": "code",
   "execution_count": null,
   "metadata": {
    "colab": {
     "base_uri": "https://localhost:8080/",
     "height": 113
    },
    "id": "JvjATR2lTtWo",
    "outputId": "2d567af2-f90f-4dd7-c7d2-f43301cab21d"
   },
   "outputs": [],
   "source": [
    "# checking to ensure datetime and monthyear are identical for all records\n",
    "animal_outcome_df[~(animal_outcome_df[\"datetime\"] == animal_outcome_df[\"monthyear\"])]"
   ]
  },
  {
   "cell_type": "code",
   "execution_count": null,
   "metadata": {
    "colab": {
     "base_uri": "https://localhost:8080/"
    },
    "id": "bH9Yia6OTtWo",
    "outputId": "d6beb524-a7b4-4a19-9d17-488bc3a6a7ad"
   },
   "outputs": [],
   "source": [
    "# storing the datetime column data into a variable outcome date\n",
    "outcome_date = animal_outcome_df['datetime']\n",
    "\n",
    "# using the PANDAS drop function to drop the 'datetime' and 'monthyear' columns from the outcome dataset\n",
    "outcome_df = animal_outcome_df.drop(['datetime', 'monthyear'], axis='columns')\n",
    "\n",
    "# inserting the new column which we created above (outcome_date) and placing this at index 1 in the dataframe\n",
    "outcome_df.insert(1, 'outcome_date', outcome_date)\n",
    "\n",
    "outcome_df.shape"
   ]
  },
  {
   "attachments": {},
   "cell_type": "markdown",
   "metadata": {
    "id": "NFNaeK7dTtWo"
   },
   "source": [
    "## 4.0 Merging intake and outcome dataframes"
   ]
  },
  {
   "attachments": {},
   "cell_type": "markdown",
   "metadata": {
    "id": "j5qolEH1TtWo"
   },
   "source": [
    "For ease of analysis, the outcome and intake dataframes are merged. We choose to perform an inner join on animal_id to limit the data that we work with to those animals where there is information about both their intake and their ultimate outcome."
   ]
  },
  {
   "cell_type": "code",
   "execution_count": null,
   "metadata": {
    "colab": {
     "base_uri": "https://localhost:8080/",
     "height": 748
    },
    "id": "9I3kUQrTTtWp",
    "outputId": "b557e578-a38f-427c-c0ae-3ef0e654b7a8"
   },
   "outputs": [],
   "source": [
    "# merging dataframes based on animal_id\n",
    "shelter_df = pd.merge(intake_df, outcome_df, how='inner', on='animal_id', suffixes=['_outcomes', '_intakes'])\n",
    "\n",
    "shelter_df"
   ]
  },
  {
   "attachments": {},
   "cell_type": "markdown",
   "metadata": {
    "id": "EAX-rUq4TtWp"
   },
   "source": [
    "## 5.0 Cleaning merged dataframe"
   ]
  },
  {
   "attachments": {},
   "cell_type": "markdown",
   "metadata": {
    "id": "Zfw8T1uWTtWp"
   },
   "source": [
    "### 5.1 Converting animal_id to data type integer\n",
    "\n",
    "Remove the \"A\" at the beginning of the animal_id by using regex. We can then turn the animal_id into an integer data type for ease of sorting and manipulation."
   ]
  },
  {
   "cell_type": "code",
   "execution_count": null,
   "metadata": {
    "colab": {
     "base_uri": "https://localhost:8080/",
     "height": 748
    },
    "id": "ogligaxzTtWp",
    "outputId": "5f3c03b3-f9b7-448f-be7c-5118d027873b"
   },
   "outputs": [],
   "source": [
    "# Use of regex to remove the A in animal_id, rather than using string slicing as if the code is run multiple times, then will remove a value each time\n",
    "shelter_df['animal_id'] = shelter_df['animal_id'].str.replace(r'A', '', regex=True).astype(int)\n",
    "\n",
    "shelter_df"
   ]
  },
  {
   "attachments": {},
   "cell_type": "markdown",
   "metadata": {
    "id": "fcOSNXDATtWp"
   },
   "source": [
    "### 5.2 Removing duplicate and unneeded columns\n",
    "\n",
    "The two datasets had some columns that we thought might contain the exact same data, thereby introducing duplicates upon the merge. We checked these columns to confirm if the data was in fact duplicate, then deleted duplicates accordingly."
   ]
  },
  {
   "cell_type": "code",
   "execution_count": null,
   "metadata": {
    "colab": {
     "base_uri": "https://localhost:8080/",
     "height": 143
    },
    "id": "og1yZkr4TtWp",
    "outputId": "fbf56cef-72bf-483c-f685-c1370200b71f"
   },
   "outputs": [],
   "source": [
    "# Confirm that color_outcomes and color_intakes are duplicates (result confirms duplication)\n",
    "shelter_df[~(shelter_df[\"color_outcomes\"] == shelter_df[\"color_intakes\"])]"
   ]
  },
  {
   "cell_type": "code",
   "execution_count": null,
   "metadata": {
    "colab": {
     "base_uri": "https://localhost:8080/",
     "height": 143
    },
    "id": "YMtsohGcTtWq",
    "outputId": "1f958b0f-2465-4302-81a2-45f63436e215"
   },
   "outputs": [],
   "source": [
    "# Confirm that breed_outcomes and breed_intakes are duplicates (result confirms duplication)\n",
    "shelter_df[~(shelter_df[\"breed_outcomes\"] == shelter_df[\"breed_intakes\"])]"
   ]
  },
  {
   "cell_type": "code",
   "execution_count": null,
   "metadata": {
    "colab": {
     "base_uri": "https://localhost:8080/",
     "height": 143
    },
    "id": "_vCflQTBTtWq",
    "outputId": "4a63bda9-9f42-49e2-e6d6-52f7ac915a12"
   },
   "outputs": [],
   "source": [
    "# Confirm that animal_type_outcomes and animal_type_intakes are duplicates (result confirms duplication)\n",
    "shelter_df[~(shelter_df[\"animal_type_outcomes\"] == shelter_df[\"animal_type_intakes\"])]"
   ]
  },
  {
   "cell_type": "code",
   "execution_count": null,
   "metadata": {
    "colab": {
     "base_uri": "https://localhost:8080/",
     "height": 765
    },
    "id": "zwyDY0YHTtWq",
    "outputId": "05a263ad-f643-45c0-c3ea-0860b286bb2c"
   },
   "outputs": [],
   "source": [
    "# Cheking if sex_upon_outcome and sex_upon_intake are duplicates (result confirms NOT duplicated)\n",
    "shelter_df[~(shelter_df[\"sex_upon_outcome\"] == shelter_df[\"sex_upon_intake\"])]"
   ]
  },
  {
   "cell_type": "code",
   "execution_count": null,
   "metadata": {
    "colab": {
     "base_uri": "https://localhost:8080/",
     "height": 748
    },
    "id": "UoEwVxXkTtWw",
    "outputId": "4b6b2437-33a4-4def-d587-8c7ce873d077"
   },
   "outputs": [],
   "source": [
    "# Removing duplicate columns\n",
    "shelter_df.drop(['color_outcomes',\n",
    "                'breed_intakes',\n",
    "                'animal_type_outcomes'],\n",
    "                axis='columns',\n",
    "                inplace=True)\n",
    "\n",
    "shelter_df"
   ]
  },
  {
   "attachments": {},
   "cell_type": "markdown",
   "metadata": {
    "id": "pDfGVJjnTtWw"
   },
   "source": [
    "\n",
    "Separately, there are some columns in the merged dataframe that are not helpful for our analysis. These include name_intakes, name_outcomes, and found_location. We remove these columns."
   ]
  },
  {
   "cell_type": "code",
   "execution_count": null,
   "metadata": {
    "colab": {
     "base_uri": "https://localhost:8080/",
     "height": 748
    },
    "id": "WlgyWPkRTtWx",
    "outputId": "238564e0-e5fd-45b6-f8b6-ebdc54a7923b"
   },
   "outputs": [],
   "source": [
    "# Removing columns that we do not need for our analysis\n",
    "shelter_df.drop(['name_intakes',\n",
    "                'name_outcomes',\n",
    "                'found_location'],\n",
    "                axis='columns',\n",
    "                inplace=True)\n",
    "\n",
    "shelter_df"
   ]
  },
  {
   "attachments": {},
   "cell_type": "markdown",
   "metadata": {},
   "source": [
    "### 5.3 Removing unnecessary records\n",
    "We remove unnecessary records from our dataset that are not directly relevant to our primary goal of increasing adoption rates. As we know there are some animals that come under the category of livestock and wildlife, we will check how many of the animals were adopted and if there is an insufficient amount of data, the rows will be removed. "
   ]
  },
  {
   "cell_type": "code",
   "execution_count": null,
   "metadata": {},
   "outputs": [],
   "source": [
    "# Check adoptions by intake_type\n",
    "shelter_df.groupby([\"intake_type\", \"outcome_type\"])[\"outcome_type\"].count()"
   ]
  },
  {
   "cell_type": "code",
   "execution_count": null,
   "metadata": {},
   "outputs": [],
   "source": [
    "# Examine wildlife that was adopted\n",
    "shelter_df[(shelter_df[\"intake_type\"] == \"Wildlife\") & (shelter_df[\"outcome_type\"] == \"Adoption\")]"
   ]
  },
  {
   "cell_type": "code",
   "execution_count": null,
   "metadata": {},
   "outputs": [],
   "source": [
    "# Check adoptions by animal type\n",
    "shelter_df.groupby([\"animal_type_intakes\", \"outcome_type\"])[\"outcome_type\"].count()"
   ]
  },
  {
   "cell_type": "code",
   "execution_count": null,
   "metadata": {},
   "outputs": [],
   "source": [
    "# Examine livestock that was adopted\n",
    "shelter_df[(shelter_df[\"animal_type_intakes\"] == \"Livestock\") & (shelter_df[\"outcome_type\"] == \"Adoption\")]"
   ]
  },
  {
   "attachments": {},
   "cell_type": "markdown",
   "metadata": {},
   "source": [
    "As expected, there are a a few amount of wildlife and livestock animals that were adopted and due to this, we will remove these rows from our dataset. "
   ]
  },
  {
   "cell_type": "code",
   "execution_count": null,
   "metadata": {},
   "outputs": [],
   "source": [
    "# Deleting rows that contain Livestock animal data\n",
    "shelter_df.drop(shelter_df[shelter_df[\"animal_type_intakes\"] == \"Livestock\"].index, inplace=True)\n",
    "\n",
    "shelter_df[shelter_df[\"animal_type_intakes\"] == \"Livestock\"]"
   ]
  },
  {
   "cell_type": "code",
   "execution_count": null,
   "metadata": {},
   "outputs": [],
   "source": [
    "# Deleting rows that contain Wildlife animal data\n",
    "shelter_df.drop(shelter_df[shelter_df[\"animal_type_intakes\"] == \"Wildlife\"].index, inplace=True)\n",
    "\n",
    "shelter_df[shelter_df[\"animal_type_intakes\"] == \"Wildlife\"]"
   ]
  },
  {
   "attachments": {},
   "cell_type": "markdown",
   "metadata": {},
   "source": [
    "When we looked at the aoutcome type for the animals, there was an outcome type 'RTO-adopt'. After doing some research there is no clear answer as to what this may mean.\n",
    "Therefore, we removed the rows of data where to outcome type included RTO-Adopt to avoid confusion when wanting to look at adoption rates during the analysis as it is not clear if these animals were adopted or returned to their owner. "
   ]
  },
  {
   "cell_type": "code",
   "execution_count": null,
   "metadata": {},
   "outputs": [],
   "source": [
    "shelter_df.drop(shelter_df[shelter_df[\"outcome_type\"] == \"Rto-Adopt\"].index, inplace=True)\n",
    "\n",
    "shelter_df[shelter_df[\"outcome_type\"] == \"Rto-Adopt\"]"
   ]
  },
  {
   "attachments": {},
   "cell_type": "markdown",
   "metadata": {
    "id": "F_fR0arLTtWx"
   },
   "source": [
    "### 5.4 Removing whitespaces\n",
    "\n",
    "The data in our datasets are likely to be input by users. To ensure that leading and trailing whitespaces do not interfere with our analysis, we define a lambda function to remove them using the .apply method."
   ]
  },
  {
   "cell_type": "code",
   "execution_count": null,
   "metadata": {
    "colab": {
     "base_uri": "https://localhost:8080/",
     "height": 277
    },
    "id": "XHjwwjqDTtWy",
    "outputId": "f6e22109-a3c9-4808-8b4c-773db1f3d664"
   },
   "outputs": [],
   "source": [
    "# look for columns with datatype object and strip any leading/trailing spaces\n",
    "shelter_df.apply(lambda value: value.str.strip() if value.dtype == \"object\" else value)\n",
    "\n",
    "shelter_df.head(3)"
   ]
  },
  {
   "attachments": {},
   "cell_type": "markdown",
   "metadata": {
    "id": "tcIWIWFWTtWy"
   },
   "source": [
    "## 6.0 Additional data manipulation to prepare for analysis\n",
    "\n",
    "We identified several ways that the data needed to be manipulated to prepare it for our analysis."
   ]
  },
  {
   "attachments": {},
   "cell_type": "markdown",
   "metadata": {
    "id": "lQUrT6gMTtWy"
   },
   "source": [
    "### 6.1 Extracting sex and neuter status into separate columns\n",
    "One of our observations was that the sex_upon_intake and sex_upon_outcome contain the sex of the animal as well as their neuter status. What is important for our analysis is sex of each animal as well as neuter status at the time of outcome. We prepare our data by (i) seperating sex into separate columns for both intake and outcome, (ii) comparing the values to confirm they are the same, then (iii) deleting one of the duplicate columns. For neuter status, we create a new column for neuter status at outcome."
   ]
  },
  {
   "cell_type": "code",
   "execution_count": null,
   "metadata": {
    "colab": {
     "base_uri": "https://localhost:8080/",
     "height": 800
    },
    "id": "ADo9EoN6TtWy",
    "outputId": "7e4719cf-986b-4fc0-acd3-efd9198f25db"
   },
   "outputs": [],
   "source": [
    "# using regex to return values about neuturing into new columns -\n",
    "# this is done by extracting the word before the white space as can see from the data that there is a space between the neuteruing and gender of animal\n",
    "shelter_df['Neuter Status at Outcome'] = shelter_df['sex_upon_outcome'].str.extract('(\\w*\\s)', expand=True)\n",
    "\n",
    "# using regex to return the sex of the animal at intake and outcome in new columns\n",
    "shelter_df['Sex at Intake'] = shelter_df['sex_upon_intake'].str.extract(('[^ ]* (.*)'), expand=True)\n",
    "shelter_df['Sex at Outcome'] = shelter_df['sex_upon_outcome'].str.extract(('[^ ]* (.*)'), expand=True)\n",
    "\n",
    "shelter_df"
   ]
  },
  {
   "attachments": {},
   "cell_type": "markdown",
   "metadata": {
    "id": "JWNX2gBtTtWz"
   },
   "source": [
    "Some values in these new columns are missing, so we replace NaN values with \"Unknown\""
   ]
  },
  {
   "cell_type": "code",
   "execution_count": null,
   "metadata": {
    "colab": {
     "base_uri": "https://localhost:8080/",
     "height": 800
    },
    "id": "w3e0fCXzTtWz",
    "outputId": "535b198e-234f-4c8c-9c55-4b7a8f9e162e"
   },
   "outputs": [],
   "source": [
    "# adding the string Unknown into as the value for new columns that contain NaN\n",
    "shelter_df[['Sex at Intake', 'Sex at Outcome', 'Neuter Status at Outcome']] = shelter_df[['Sex at Intake', 'Sex at Outcome', 'Neuter Status at Outcome']].fillna('Unknown')\n",
    "\n",
    "shelter_df"
   ]
  },
  {
   "cell_type": "code",
   "execution_count": null,
   "metadata": {
    "colab": {
     "base_uri": "https://localhost:8080/",
     "height": 165
    },
    "id": "82pckLHrTtWz",
    "outputId": "c0674174-024a-4bf2-badf-d6dab14c1e03"
   },
   "outputs": [],
   "source": [
    "# Confirm that sex at intake and sex at outcome are the same for each record (result confirms these columns are duplicates)\n",
    "shelter_df[~(shelter_df[\"Sex at Intake\"] == shelter_df[\"Sex at Outcome\"])]"
   ]
  },
  {
   "cell_type": "code",
   "execution_count": null,
   "metadata": {
    "colab": {
     "base_uri": "https://localhost:8080/",
     "height": 800
    },
    "id": "gFjplSahTtWz",
    "outputId": "16c38319-ead9-4f25-bdec-efcb6809408a"
   },
   "outputs": [],
   "source": [
    "# Delete duplicate column as well as source columns which are no longer needed\n",
    "shelter_df.drop(['Sex at Outcome',\n",
    "                'sex_upon_outcome',\n",
    "                'sex_upon_intake'],\n",
    "                axis='columns',\n",
    "                inplace=True)\n",
    "\n",
    "shelter_df"
   ]
  },
  {
   "attachments": {},
   "cell_type": "markdown",
   "metadata": {
    "id": "OIKhnb7sTtW0"
   },
   "source": [
    "### 6.2 Calculating each animal's length of stay at the shelter"
   ]
  },
  {
   "attachments": {},
   "cell_type": "markdown",
   "metadata": {
    "id": "-V4JbbjyTtW0"
   },
   "source": [
    "We can find the amount of time each animal spent in the shelter and store this in a new column. For this calculation, we convert the intake_date and outcome_date columns to datetime using the `to_datetime` function, then subtract the outcome date by the intake date."
   ]
  },
  {
   "cell_type": "code",
   "execution_count": null,
   "metadata": {
    "colab": {
     "base_uri": "https://localhost:8080/",
     "height": 800
    },
    "id": "uKrmPH4iTtW0",
    "outputId": "cd0603fb-fed6-4afe-9eeb-e19f30479be3"
   },
   "outputs": [],
   "source": [
    "shelter_df['intake_date'] = pd.to_datetime(shelter_df['intake_date'])\n",
    "shelter_df['outcome_date'] = pd.to_datetime(shelter_df['outcome_date'])\n",
    "shelter_df['Time In Shelter'] = shelter_df['outcome_date'] - shelter_df['intake_date']\n",
    "shelter_df"
   ]
  },
  {
   "attachments": {},
   "cell_type": "markdown",
   "metadata": {
    "id": "bdeyFjC-TtW0"
   },
   "source": [
    "We can now get a sense of the distribution in our data by using the describe function.\n"
   ]
  },
  {
   "cell_type": "code",
   "execution_count": null,
   "metadata": {
    "colab": {
     "base_uri": "https://localhost:8080/",
     "height": 300
    },
    "id": "tj1wsMwYTtW0",
    "outputId": "d6f90ff9-4bc5-4476-ccee-e1ad2495b5d4"
   },
   "outputs": [],
   "source": [
    "shelter_df.describe()"
   ]
  },
  {
   "attachments": {},
   "cell_type": "markdown",
   "metadata": {
    "id": "E5wkVnvKTtW1"
   },
   "source": [
    "This shows the minimum time in shelter is negative. Where the time in shelter is negative, the intake date is more recent then the outcome date. We check for records where the intake date is after the outcome date."
   ]
  },
  {
   "cell_type": "code",
   "execution_count": null,
   "metadata": {
    "colab": {
     "base_uri": "https://localhost:8080/",
     "height": 800
    },
    "id": "G3tLdIcmTtW3",
    "outputId": "02c018db-eeb6-430c-d0cb-79819ed286f8"
   },
   "outputs": [],
   "source": [
    "# check for occurrences where intake date is after outcome date (suggesting data input error)\n",
    "incorrect_dates = shelter_df[shelter_df['intake_date'] >= shelter_df['outcome_date']]\n",
    "\n",
    "incorrect_dates"
   ]
  },
  {
   "attachments": {},
   "cell_type": "markdown",
   "metadata": {
    "id": "yrUZnZDuTtW3"
   },
   "source": [
    "There are a considerable number of rows with this discrepancy. Because these inaccuracies could skew our analysis, we choose to remove these records."
   ]
  },
  {
   "cell_type": "code",
   "execution_count": null,
   "metadata": {
    "colab": {
     "base_uri": "https://localhost:8080/",
     "height": 817
    },
    "id": "3wKo85rjTtW3",
    "outputId": "ea065c89-9ebd-438f-8d87-18a3c0e009ca"
   },
   "outputs": [],
   "source": [
    "# Using .index, we remove the rows by the index of the incorrect date rows\n",
    "shelter_df.drop(incorrect_dates.index, inplace=True)\n",
    "shelter_df"
   ]
  },
  {
   "cell_type": "code",
   "execution_count": null,
   "metadata": {
    "colab": {
     "base_uri": "https://localhost:8080/",
     "height": 300
    },
    "id": "pB0HfFuyTtW4",
    "outputId": "c4d190ef-1bf1-4287-c9fa-13147a31e46c"
   },
   "outputs": [],
   "source": [
    "# check the distribution of data again using describe function (result shows no remaining negative values)\n",
    "shelter_df.describe()"
   ]
  },
  {
   "attachments": {},
   "cell_type": "markdown",
   "metadata": {},
   "source": [
    "### 6.3 Sense-checking animals' birth dates and intake/outcome dates"
   ]
  },
  {
   "attachments": {},
   "cell_type": "markdown",
   "metadata": {
    "id": "xiLDiRLDTtW5"
   },
   "source": [
    "Because of the date inconsistencies that we found when we compared intake and outcome dates, we decided to sense-check the intake/outcome dates against animals' dates of birth. Where there are birth dates that come after outcome dates or intake dates, these are likely to be errors. We therefore delete records where this is the case."
   ]
  },
  {
   "cell_type": "code",
   "execution_count": null,
   "metadata": {
    "colab": {
     "base_uri": "https://localhost:8080/",
     "height": 800
    },
    "id": "cvHEdojcTtW5",
    "outputId": "2cd8ffb1-9f42-4733-c0ce-17735e68a7a7"
   },
   "outputs": [],
   "source": [
    "# identify instances where date of birth comes after outcome date\n",
    "birth_outcome_intake_date_discrepancies = shelter_df[(shelter_df['date_of_birth'] > shelter_df['outcome_date']) | (shelter_df['date_of_birth'] > shelter_df['intake_date'])]\n",
    "\n",
    "birth_outcome_intake_date_discrepancies"
   ]
  },
  {
   "cell_type": "code",
   "execution_count": null,
   "metadata": {
    "colab": {
     "base_uri": "https://localhost:8080/",
     "height": 817
    },
    "id": "98U-h_soTtW5",
    "outputId": "8630a681-3c94-4722-fd27-fe09f7af8ee7"
   },
   "outputs": [],
   "source": [
    "# Using .index to remove the rows by the index of the rows with the inconsistent dates\n",
    "shelter_df.drop(birth_outcome_intake_date_discrepancies.index, inplace=True)\n",
    "\n",
    "shelter_df"
   ]
  },
  {
   "attachments": {},
   "cell_type": "markdown",
   "metadata": {},
   "source": [
    "### 6.4 Convert age at intake and age at outcome to usable formats\n",
    "\n",
    "The age data in the raw datasets is not ideal for analysis because there is no standard unit (some ages are in weeks, others in months or years). We perform manipulations to get the ages in a common unit of measure - days. Then, we use our new columns to assign each animal to an age group.\n",
    "\n",
    "#### Convert ages to units in days"
   ]
  },
  {
   "cell_type": "code",
   "execution_count": null,
   "metadata": {
    "colab": {
     "base_uri": "https://localhost:8080/",
     "height": 886
    },
    "id": "4clLmx1fTtW5",
    "outputId": "ff8627b1-f1bb-4c31-f689-bbca31630a21"
   },
   "outputs": [],
   "source": [
    "# convert date of birth to datetime\n",
    "shelter_df['date_of_birth'] = pd.to_datetime(shelter_df['date_of_birth'])\n",
    "\n",
    "# calculate age at intake and age at outcome using birth date\n",
    "shelter_df['Age at Intake'] = shelter_df['intake_date'] - shelter_df['date_of_birth']\n",
    "shelter_df['Age at Outcome'] = shelter_df['outcome_date'] - shelter_df['date_of_birth']\n",
    "\n",
    "shelter_df"
   ]
  },
  {
   "cell_type": "code",
   "execution_count": null,
   "metadata": {},
   "outputs": [],
   "source": [
    "# check statistics for newly calculated ages at intake and outcome\n",
    "shelter_df.describe()"
   ]
  },
  {
   "attachments": {},
   "cell_type": "markdown",
   "metadata": {},
   "source": [
    "#### Create age ranges for animals at intake and outcome"
   ]
  },
  {
   "cell_type": "code",
   "execution_count": null,
   "metadata": {},
   "outputs": [],
   "source": [
    "# define a bins list for the age ranges we want in years\n",
    "bins_yrs = [0, 0.25, 0.5, 1, 2, 3, 5, 7, 10, 13, 16, 19, 31]\n",
    "\n",
    "# convert the bins to days since that is the unit of measure of our data\n",
    "bins_days = [round(yrs * 365.25) for yrs in bins_yrs]\n",
    "\n",
    "bins_days"
   ]
  },
  {
   "cell_type": "code",
   "execution_count": null,
   "metadata": {},
   "outputs": [],
   "source": [
    "# define string labels for the bins\n",
    "labels = [\"0-3 mon\", \"3-6 mon\", \"6-12 mon\", \"1-2 yrs\", \n",
    "          \"2-3 yrs\", \"3-5 yrs\", \"5-7 yrs\", \"7-10 yrs\", \n",
    "          \"10-13 yrs\", \"13-16 yrs\", \"16-19 yrs\", \"19-31 yrs\"\n",
    "         ]"
   ]
  },
  {
   "cell_type": "code",
   "execution_count": null,
   "metadata": {},
   "outputs": [],
   "source": [
    "# add new columns for age ranges at intake and at outcome; and assign age ranges using cut\n",
    "shelter_df[\"Age Range at Intake\"] = pd.cut(shelter_df[\"Age at Intake\"], bins=pd.to_timedelta(bins_days, unit=\"D\"), labels=labels, right=False)\n",
    "shelter_df[\"Age Range at Outcome\"] = pd.cut(shelter_df[\"Age at Outcome\"], bins=pd.to_timedelta(bins_days, unit=\"D\"), labels=labels, right=False)\n",
    "\n",
    "# show a sample of records for relevant columns as a spot check\n",
    "shelter_df[[\"Age at Intake\", \"Age Range at Intake\", \"Age at Outcome\", \"Age Range at Outcome\"]].sample(15)\n"
   ]
  },
  {
   "cell_type": "code",
   "execution_count": null,
   "metadata": {
    "colab": {
     "base_uri": "https://localhost:8080/",
     "height": 886
    },
    "id": "lPHt1tEkTtW6",
    "outputId": "aea109b0-3711-4bf5-aa71-1243a2747d79"
   },
   "outputs": [],
   "source": [
    "# delete age_upon_intake, age_upon_outcome, and date_of_birth which are now redundant\n",
    "shelter_df.drop(['age_upon_intake',\n",
    "                'age_upon_outcome',\n",
    "                'date_of_birth'],\n",
    "                axis='columns',\n",
    "                inplace=True)\n",
    "\n",
    "shelter_df"
   ]
  },
  {
   "attachments": {},
   "cell_type": "markdown",
   "metadata": {},
   "source": [
    "### 6.5 Identifying purebred vs mixed breed animals\n",
    "A characteristic that may be useful for our analysis is to distingish animals from those who are mixed breed versus purebred. We use the breed information from within our dataframe to create a new column with boolean values where True signifies mixed breed and False signifies purebred."
   ]
  },
  {
   "cell_type": "code",
   "execution_count": null,
   "metadata": {},
   "outputs": [],
   "source": [
    "# create new column that distinguishes mixed breed from purebred\n",
    "shelter_df['Mixed Breed'] = shelter_df['breed_outcomes'].str.contains('Mix', case=True, regex=False)\n",
    "shelter_df[['breed_outcomes', 'Mixed Breed']].sample(10)"
   ]
  },
  {
   "attachments": {},
   "cell_type": "markdown",
   "metadata": {
    "id": "i7PlB8EUTtW6"
   },
   "source": [
    "## 7.0 Addressing null values\n",
    "\n",
    "### 7.1 Identifying null values\n",
    "\n",
    "We identify and explore records with null values so that we can make informed decisions about how to address the missing data."
   ]
  },
  {
   "cell_type": "code",
   "execution_count": null,
   "metadata": {
    "colab": {
     "base_uri": "https://localhost:8080/",
     "height": 746
    },
    "id": "TLDC6MD2TtW6",
    "outputId": "6da3a9a0-2a79-4876-a1fb-09567353a117"
   },
   "outputs": [],
   "source": [
    "# generate a heatmap of missing values using matplotlib and seaborn\n",
    "import matplotlib.pyplot as plt\n",
    "import seaborn as sns\n",
    "\n",
    "plt.figure(figsize=(30,30))\n",
    "sns.heatmap(shelter_df.isnull(), cbar=False, cmap=\"YlGnBu\")\n",
    "plt.show()"
   ]
  },
  {
   "attachments": {},
   "cell_type": "markdown",
   "metadata": {
    "id": "s3EtdBcsTtW7"
   },
   "source": [
    "The heatmap suggests that missing values are concentrated in the outcome_subtype column, but there are also some missing values in the outcome_type column. We look more closely at the numbers of missing values in the two columns using the .isna() and .sum() method."
   ]
  },
  {
   "cell_type": "code",
   "execution_count": null,
   "metadata": {
    "colab": {
     "base_uri": "https://localhost:8080/"
    },
    "id": "ZCvs0eoUTtW7",
    "outputId": "d89eaae7-2494-48ba-e958-11b9a0357077"
   },
   "outputs": [],
   "source": [
    "# check for non-null values\n",
    "null_val_shelter = shelter_df.isnull().sum()\n",
    "null_val_shelter"
   ]
  },
  {
   "cell_type": "code",
   "execution_count": null,
   "metadata": {
    "colab": {
     "base_uri": "https://localhost:8080/"
    },
    "id": "4Y2848fbN0Ci",
    "outputId": "2300c310-ac88-49ba-a8f7-4965e1054650"
   },
   "outputs": [],
   "source": [
    "# checking how many rows have null values in outcome_type columns:\n",
    "rows_with_nulls = shelter_df[shelter_df['outcome_type'].isnull()].any(axis=1)\n",
    "null_rows_count = rows_with_nulls.sum()\n",
    "null_rows_count"
   ]
  },
  {
   "attachments": {},
   "cell_type": "markdown",
   "metadata": {
    "id": "ynmf6V8LTtW8"
   },
   "source": [
    "### 7.2 Addressing null outcome_type values\n",
    "\n",
    "outcome_type is a very important column for our analysis, and for this reason, we choose to delete the 36 rows that have null values in this column."
   ]
  },
  {
   "cell_type": "code",
   "execution_count": null,
   "metadata": {
    "id": "LUrwV7VVTtW8"
   },
   "outputs": [],
   "source": [
    "# delete the rows that have missing values for outcome_type\n",
    "shelter_df.dropna(subset=['outcome_type'], inplace=True)"
   ]
  },
  {
   "attachments": {},
   "cell_type": "markdown",
   "metadata": {},
   "source": [
    "### 7.3 Addressing null outcome_subtype values"
   ]
  },
  {
   "attachments": {},
   "cell_type": "markdown",
   "metadata": {
    "id": "M9LSMllOTtW-"
   },
   "source": [
    "We explore the outcome_subtype data to determine its relevance and usefulness to our analysis. First we replace all null values with \"Not specified\", then we aggregate the data to see what we can learn."
   ]
  },
  {
   "cell_type": "code",
   "execution_count": null,
   "metadata": {
    "id": "cgB8ErZkTtW-"
   },
   "outputs": [],
   "source": [
    "# replace null values for outcome_subtype with \"Not specified\"\n",
    "shelter_df[\"outcome_subtype\"] = shelter_df[\"outcome_subtype\"].fillna(\"Not specified\")"
   ]
  },
  {
   "cell_type": "code",
   "execution_count": null,
   "metadata": {
    "colab": {
     "base_uri": "https://localhost:8080/"
    },
    "id": "Uiuvt4bHTtW-",
    "outputId": "056b174f-7112-4425-efc3-985817ba1468"
   },
   "outputs": [],
   "source": [
    "# aggregate the data\n",
    "shelter_df.groupby([\"outcome_type\", \"outcome_subtype\"])[\"outcome_subtype\"].count()"
   ]
  },
  {
   "attachments": {},
   "cell_type": "markdown",
   "metadata": {
    "id": "wdbyAkzmTtW_"
   },
   "source": [
    "We generated a bar chart to illustrate the outcome subtype for those animals who were adopted. "
   ]
  },
  {
   "cell_type": "code",
   "execution_count": null,
   "metadata": {
    "colab": {
     "base_uri": "https://localhost:8080/",
     "height": 487
    },
    "id": "Kpl7DzO6Sleo",
    "outputId": "a206c4ac-d060-4a4f-dfb6-a481788a264f",
    "scrolled": true
   },
   "outputs": [],
   "source": [
    "# Filter the df to select only 'Adoption' outcomes:\n",
    "adoption_df = shelter_df[shelter_df['outcome_type'] == 'Adoption']\n",
    "\n",
    "# Count the occurrences of each outcome_subtype for Euthanasia cases\n",
    "outcome_subtype_counts = adoption_df['outcome_subtype'].value_counts()\n",
    "\n",
    "# Choose the top N most common outcome_subtype values to display\n",
    "top_n = 10\n",
    "top_n_values = outcome_subtype_counts.head(top_n)\n",
    "\n",
    "# Create a bar chart\n",
    "plt.bar(top_n_values.index, top_n_values.values)\n",
    "plt.xlabel('Outcome Subtype')\n",
    "plt.ylabel('Count')\n",
    "plt.title('Top ' + str(top_n) + ' Outcome Subtype Distribution for Adoption')\n",
    "plt.xticks(rotation=45)\n",
    "plt.tight_layout()\n",
    "\n",
    "# Display the plot\n",
    "plt.show()"
   ]
  },
  {
   "attachments": {},
   "cell_type": "markdown",
   "metadata": {},
   "source": [
    "Because the majority of adoption subtypes are \"Not specified\" we decided that this information is not helpful to our analysis. For this reason, we chose to delete outcome_subtype from our dataset."
   ]
  },
  {
   "cell_type": "code",
   "execution_count": null,
   "metadata": {},
   "outputs": [],
   "source": [
    "# delete outcome_subtype which is not useful for our analysis\n",
    "shelter_df.drop(['outcome_subtype'],\n",
    "                axis='columns',\n",
    "                inplace=True)\n",
    "\n",
    "shelter_df"
   ]
  },
  {
   "attachments": {},
   "cell_type": "markdown",
   "metadata": {
    "id": "g3hj8CdETtW_"
   },
   "source": [
    "## 8.0 Some final cleaning steps for readability and ease of use"
   ]
  },
  {
   "attachments": {},
   "cell_type": "markdown",
   "metadata": {
    "id": "1UXUwMgHTtW_"
   },
   "source": [
    "### 8.1 Changing column names"
   ]
  },
  {
   "cell_type": "code",
   "execution_count": null,
   "metadata": {
    "colab": {
     "base_uri": "https://localhost:8080/"
    },
    "id": "OhvQLnPkQ0GC",
    "outputId": "b022539f-abb9-4c52-f74e-ef0777aa46b6"
   },
   "outputs": [],
   "source": [
    "# lets quickly check what column names our dataframe currently has:\n",
    "column_names = shelter_df.columns\n",
    "\n",
    "for column_name in column_names:\n",
    "    print(column_name)"
   ]
  },
  {
   "attachments": {},
   "cell_type": "markdown",
   "metadata": {},
   "source": [
    "To improve readability of the data, we rename the columns."
   ]
  },
  {
   "cell_type": "code",
   "execution_count": null,
   "metadata": {
    "colab": {
     "base_uri": "https://localhost:8080/",
     "height": 416
    },
    "id": "YNiFTK1GTtXA",
    "outputId": "674f3907-af18-4cf9-ea93-91e3ee97f52e"
   },
   "outputs": [],
   "source": [
    "# change column names to improve readability\n",
    "shelter_df.rename(columns={'animal_id':'Animal ID',\n",
    "                           'intake_date': 'Intake Date',\n",
    "                           'found_location': 'Found Location',\n",
    "                           'intake_type': 'Intake Type',\n",
    "                           'intake_condition': 'Intake Condition',\n",
    "                           'breed_outcomes':'Breed',\n",
    "                           'outcome_date': 'Outcome Date',\n",
    "                           'outcome_type': 'Outcome Type',\n",
    "                           'animal_type_intakes': 'Animal',\n",
    "                           'color_intakes': 'Colour',\n",
    "                           'Sex at Intake': 'Sex'},\n",
    "                  inplace=True)\n",
    "\n",
    "shelter_df.head(3)"
   ]
  },
  {
   "attachments": {},
   "cell_type": "markdown",
   "metadata": {
    "id": "dPsi0lPbTtXB"
   },
   "source": [
    "### 8.2 Sorting rows\n",
    "\n",
    "We sort the rows based on the intake date and reset the index as the old index is not needed."
   ]
  },
  {
   "cell_type": "code",
   "execution_count": null,
   "metadata": {
    "colab": {
     "base_uri": "https://localhost:8080/",
     "height": 513
    },
    "id": "fsDS9EPtTtXB",
    "outputId": "cf8c0b7c-4b51-49ba-b1a8-3eb3463d964e",
    "scrolled": true
   },
   "outputs": [],
   "source": [
    "# sort by Intake Date\n",
    "shelter_df.sort_values('Intake Date', inplace=True)\n",
    "\n",
    "# reset index\n",
    "shelter_df.reset_index(drop=True, inplace=True)\n",
    "\n",
    "shelter_df.head(5)"
   ]
  },
  {
   "attachments": {},
   "cell_type": "markdown",
   "metadata": {
    "id": "2__7GcUZTtXB"
   },
   "source": [
    "#### 8.2.1 Addressing an observation: potential duplicates in data\n",
    "\n",
    "When looking at the data above, we noticed rows 1-3 are identical except for animal id. We then used the below code to check if there were any more rows in the data like this and saw that there were around 3000 potential duplicates.\n",
    "\n",
    "When looking further into this, we noticed that the majority had a very young Intake Age. We thought that this is likely to mean that the animals were brought to the shelter as a litter. Therefore we chose not remove these rows from our data."
   ]
  },
  {
   "cell_type": "code",
   "execution_count": null,
   "metadata": {
    "id": "RrEAywzjTtXB",
    "outputId": "f18b17ff-39e0-448b-f8c2-2663934ad04d",
    "scrolled": true
   },
   "outputs": [],
   "source": [
    "shelter_df[shelter_df.duplicated(subset=shelter_df.columns.difference(['Animal ID']))]"
   ]
  },
  {
   "attachments": {},
   "cell_type": "markdown",
   "metadata": {
    "id": "dz2SFvVrTtXC"
   },
   "source": [
    "### 8.3 Rearranging column postions\n",
    "\n",
    "We rearrange the column positions for easier readability of the data."
   ]
  },
  {
   "cell_type": "code",
   "execution_count": null,
   "metadata": {
    "colab": {
     "base_uri": "https://localhost:8080/",
     "height": 921
    },
    "id": "i0BUljJ_TtXC",
    "outputId": "0e05fdae-5c5d-401e-a694-a7125f3da5b3",
    "scrolled": true
   },
   "outputs": [],
   "source": [
    "shelter_df = shelter_df.reindex(columns=['Animal ID',\n",
    "                                         'Animal',\n",
    "                                         'Intake Date',\n",
    "                                         'Outcome Date',\n",
    "                                         'Time In Shelter',\n",
    "                                         'Age at Intake',\n",
    "                                         'Age Range at Intake',\n",
    "                                         'Age at Outcome',\n",
    "                                         'Age Range at Outcome',\n",
    "                                         'Intake Condition',\n",
    "                                         'Intake Type',\n",
    "                                         'Outcome Type',\n",
    "                                         'Sex',\n",
    "                                         'Neuter Status at Outcome',\n",
    "                                         'Breed',\n",
    "                                         'Mixed Breed',\n",
    "                                         'Colour'])\n",
    "\n",
    "shelter_df"
   ]
  },
  {
   "attachments": {},
   "cell_type": "markdown",
   "metadata": {
    "id": "XamR_1EyTtXC"
   },
   "source": [
    "## 9.0 Write cleaned data to csv file"
   ]
  },
  {
   "cell_type": "code",
   "execution_count": null,
   "metadata": {
    "id": "sayw5E5gTtXC"
   },
   "outputs": [],
   "source": [
    "# write cleaned data to csv\n",
    "shelter_df.to_csv('Austin_Animal_Center_clean_data.csv')"
   ]
  }
 ],
 "metadata": {
  "colab": {
   "provenance": []
  },
  "kernelspec": {
   "display_name": "Python 3 (ipykernel)",
   "language": "python",
   "name": "python3"
  },
  "language_info": {
   "codemirror_mode": {
    "name": "ipython",
    "version": 3
   },
   "file_extension": ".py",
   "mimetype": "text/x-python",
   "name": "python",
   "nbconvert_exporter": "python",
   "pygments_lexer": "ipython3",
   "version": "3.11.3"
  }
 },
 "nbformat": 4,
 "nbformat_minor": 1
}
