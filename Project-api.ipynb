{
 "cells": [
  {
   "attachments": {},
   "cell_type": "markdown",
   "metadata": {},
   "source": [
    "## Data Collection"
   ]
  },
  {
   "attachments": {},
   "cell_type": "markdown",
   "metadata": {},
   "source": [
    "Requesting data from the Austin Animal shelter API using requests.get\n",
    "\n",
    "Both datasets contain around 160,000 rows of data. To retrieve all the data, using ```?$limit=160000``` at the end of both API Endpoints "
   ]
  },
  {
   "attachments": {},
   "cell_type": "markdown",
   "metadata": {},
   "source": [
    "#### Requesting data from the intake API and storing as a JSON"
   ]
  },
  {
   "cell_type": "code",
   "execution_count": null,
   "metadata": {},
   "outputs": [],
   "source": [
    "import requests \n",
    "import pandas as pd\n",
    "\n",
    "response = requests.get('https://data.austintexas.gov/resource/wter-evkm.json?$limit=160000')\n",
    "data_set1 = response.json()\n",
    "data_set1"
   ]
  },
  {
   "attachments": {},
   "cell_type": "markdown",
   "metadata": {},
   "source": [
    "#### Requesting data from the outcome API and storing as a JSON"
   ]
  },
  {
   "cell_type": "code",
   "execution_count": null,
   "metadata": {},
   "outputs": [],
   "source": [
    "response2 = requests.get('https://data.austintexas.gov/resource/9t4d-g238.json?$limit=160000')\n",
    "data_set2 = response2.json()\n",
    "data_set2"
   ]
  },
  {
   "attachments": {},
   "cell_type": "markdown",
   "metadata": {},
   "source": [
    "### Converting JSON data to a dataframe using PANDAS"
   ]
  },
  {
   "cell_type": "code",
   "execution_count": null,
   "metadata": {},
   "outputs": [],
   "source": [
    "# dataframe(df) for intake data\n",
    "animal_intake_df = pd.DataFrame(data_set1) \n",
    "\n",
    "# only showing the first 5 rows - can remove .head() to see more rows\n",
    "animal_intake_df.head(5)\n",
    "\n"
   ]
  },
  {
   "cell_type": "code",
   "execution_count": null,
   "metadata": {},
   "outputs": [],
   "source": [
    "# dataframe 2 for output\n",
    "\n",
    "animal_outcome_df = pd.DataFrame(data_set2) \n",
    "\n",
    "animal_outcome_df.head(5)\n"
   ]
  },
  {
   "attachments": {},
   "cell_type": "markdown",
   "metadata": {},
   "source": [
    "### Cleaning columns\n",
    "\n",
    "As both datasets contains 2 columns that store the datatime, we can remove both columns and only store the date"
   ]
  },
  {
   "attachments": {},
   "cell_type": "markdown",
   "metadata": {},
   "source": [
    "#### Cleaning the intake dataset"
   ]
  },
  {
   "cell_type": "code",
   "execution_count": null,
   "metadata": {},
   "outputs": [],
   "source": [
    "# checking the datatypes of the columns\n",
    "animal_intake_df.info()\n",
    "\n",
    "''' If we use merge before doing any data cleaning and only doing outer merge'''\n",
    "# merged_df = pd.merge(animal_intake_df, animal_outcome_df, how='outer')\n",
    "\n",
    "# merged_df.shape"
   ]
  },
  {
   "cell_type": "code",
   "execution_count": null,
   "metadata": {},
   "outputs": [],
   "source": [
    "# Removing the time from the datetime column, so we are just left with the date\n",
    "\n",
    "# as the datetime column is a object, we are using the pandas to_datetime function, to convert the column into a datetime object \n",
    "# then using the dt (datetime) date PANDAS function to convert our datetime object to just the date\n",
    "intake_date = pd.to_datetime(animal_intake_df['datetime']).dt.date\n",
    "\n",
    "# print(intake_date) - this will show the output which is just the date\n",
    "\n",
    "# using the PANDAS drop function to drop the 'datetime' and 'datetime2' columns from the intake dataset\n",
    "intake_df = animal_intake_df.drop(['datetime', 'datetime2'], axis='columns')\n",
    "\n",
    "# inserting the new column which we created before - (intake_date) and placing this at index 2 in the dateset\n",
    "intake_df.insert(2, 'intake_date', intake_date)\n",
    "\n",
    "# returning first 5 rows, just to show how the dataframe now looks\n",
    "intake_df.shape\n"
   ]
  },
  {
   "attachments": {},
   "cell_type": "markdown",
   "metadata": {},
   "source": [
    "#### Cleaning the outcome dataset\n",
    "\n",
    "Doing the same as above"
   ]
  },
  {
   "cell_type": "code",
   "execution_count": null,
   "metadata": {},
   "outputs": [],
   "source": [
    "outcome_date = pd.to_datetime(animal_outcome_df['datetime']).dt.date\n",
    "\n",
    "# this dataset contains the 'datetime' and 'monthyear' column which both can be removed\n",
    "outcome_df = animal_outcome_df.drop(['datetime', 'monthyear'], axis='columns')\n",
    "\n",
    "outcome_df.insert(2, 'outcome_date', outcome_date)\n",
    "\n",
    "outcome_df.shape"
   ]
  },
  {
   "attachments": {},
   "cell_type": "markdown",
   "metadata": {},
   "source": [
    "### Merging both datasets to retrieve the rows that contain both intake and output information"
   ]
  },
  {
   "cell_type": "code",
   "execution_count": null,
   "metadata": {},
   "outputs": [],
   "source": [
    "merged_df = pd.merge(intake_df, outcome_df, on='animal_id', how='inner')\n",
    "\n",
    "merged_df.head(2)\n",
    "\n"
   ]
  },
  {
   "cell_type": "code",
   "execution_count": null,
   "metadata": {},
   "outputs": [],
   "source": [
    "# removing the A from animal id to allow sorting of animal id later on\n",
    "merged_df['animal_id'] = merged_df['animal_id'].str[1:]\n",
    "merged_df"
   ]
  },
  {
   "cell_type": "code",
   "execution_count": null,
   "metadata": {},
   "outputs": [],
   "source": [
    "# sorting rows based on animal_id - this way we can check for any duplicates\n",
    "merged_df = merged_df.sort_values('animal_id')\n",
    "merged_df"
   ]
  },
  {
   "cell_type": "code",
   "execution_count": null,
   "metadata": {},
   "outputs": [],
   "source": [
    "# removing duplicates based on the animal_id\n",
    "merged_df = merged_df.drop_duplicates(subset='animal_id')  # .reset_index() - can reset the index \n",
    "merged_df"
   ]
  }
 ],
 "metadata": {
  "kernelspec": {
   "display_name": "Python 3",
   "language": "python",
   "name": "python3"
  },
  "language_info": {
   "codemirror_mode": {
    "name": "ipython",
    "version": 3
   },
   "file_extension": ".py",
   "mimetype": "text/x-python",
   "name": "python",
   "nbconvert_exporter": "python",
   "pygments_lexer": "ipython3",
   "version": "3.11.3"
  },
  "orig_nbformat": 4
 },
 "nbformat": 4,
 "nbformat_minor": 2
}
